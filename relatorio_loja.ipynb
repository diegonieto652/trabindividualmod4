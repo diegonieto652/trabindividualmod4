{
  "nbformat": 4,
  "nbformat_minor": 0,
  "metadata": {
    "colab": {
      "provenance": [],
      "authorship_tag": "ABX9TyPSifmQD0lmS0QgeBHsa8AF",
      "include_colab_link": true
    },
    "kernelspec": {
      "name": "python3",
      "display_name": "Python 3"
    },
    "language_info": {
      "name": "python"
    }
  },
  "cells": [
    {
      "cell_type": "markdown",
      "metadata": {
        "id": "view-in-github",
        "colab_type": "text"
      },
      "source": [
        "<a href=\"https://colab.research.google.com/github/diegonieto652/trabindividualmod4/blob/main/relatorio_loja.ipynb\" target=\"_parent\"><img src=\"https://colab.research.google.com/assets/colab-badge.svg\" alt=\"Open In Colab\"/></a>"
      ]
    },
    {
      "cell_type": "code",
      "execution_count": 40,
      "metadata": {
        "colab": {
          "base_uri": "https://localhost:8080/"
        },
        "id": "gUgQ_hEsGJpd",
        "outputId": "249337e1-a60d-481f-9a01-ad08bea964d4"
      },
      "outputs": [
        {
          "output_type": "stream",
          "name": "stdout",
          "text": [
            "A soma dos ganhos é R$26325.00\n",
            "Ganhos líquidos semanais reduzidos do imposto de 7%: 24482.25\n",
            "       Dia  Limpeza  Comida  Transporte  Outros  Ganhos\n",
            "0  Segunda      100  221.60         150       0  2200.0\n",
            "1    Terça        0  375.31         100       0  2420.5\n",
            "2   Quarta      100  412.00         125    2310  3391.0\n",
            "3   Quinta        0  495.20         300     500  5322.0\n",
            "4    Sexta      100  411.53         275       0  4898.5\n",
            "5   Sábado      100  245.00         525       0  4200.0\n",
            "6  Domingo        0  164.00          75     820  3893.0\n",
            "Média dos ganhos:3760.71\n",
            "   gastos_limpeza  gastos_comida  gastos_transporte  gasto_outros\n",
            "0             400        2324.64               1550          3630\n",
            "##########################################\n",
            "Média semanal de cada despesa\n",
            "  media_desp_limpeza media_desp_comida media_desp_transporte media_desp_outros\n",
            "0              57.14            332.09                221.43            518.57\n",
            "########################################\n",
            "lucro diário\n",
            "       Dia  Limpeza  Comida  Transporte  Outros  Ganhos    Lucro\n",
            "0  Segunda      100  221.60         150       0  2200.0  1728.40\n",
            "1    Terça        0  375.31         100       0  2420.5  1945.19\n",
            "2   Quarta      100  412.00         125    2310  3391.0   444.00\n",
            "3   Quinta        0  495.20         300     500  5322.0  4026.80\n",
            "4    Sexta      100  411.53         275       0  4898.5  4111.97\n",
            "5   Sábado      100  245.00         525       0  4200.0  3330.00\n",
            "6  Domingo        0  164.00          75     820  3893.0  2834.00\n",
            "########################################\n",
            "dia mais lucrativo\n",
            "Dia mais lucrativo: Sexta\n"
          ]
        }
      ],
      "source": [
        "import pandas as pd\n",
        "import numpy as np\n",
        "\n",
        "\n",
        "\n",
        "df = pd.DataFrame({'Dia':['Segunda','Terça','Quarta','Quinta','Sexta','Sábado','Domingo'],\n",
        "                   'Limpeza':[100, 0, 100, 0, 100, 100, 0],\n",
        "                   'Comida':[221.60, 375.31, 412.00, 495.20, 411.53, 245.00,164.00],\n",
        "                   'Transporte':[150, 100, 125, 300, 275, 525, 75],\n",
        "                   'Outros':[0, 0, 2310, 500, 0, 0, 820],\n",
        "                   'Ganhos': [2200, 2420.50, 3391, 5322, 4898.50, 4200,3893]})\n",
        "\n",
        "soma_ganhos = df['Ganhos'].sum()\n",
        "ganhos_arredondar = round(soma_ganhos, 2)\n",
        "print(f'A soma dos ganhos é R${ganhos_arredondar:.2f}')\n",
        "\n",
        "ganhosliquidos = ganhos_arredondar - (ganhos_arredondar * 7)/100\n",
        "print(f'Ganhos líquidos semanais reduzidos do imposto de 7%: {ganhosliquidos}')\n",
        "media = df['Ganhos'].mean()\n",
        "\n",
        "print(df)\n",
        "print(f'Média dos ganhos:{media:.2f}')\n",
        "desplimpeza = df['Limpeza'].sum()\n",
        "despcomida = df['Comida'].sum()\n",
        "desptransporte = df['Transporte'].sum()\n",
        "despoutros = df['Outros'].sum()\n",
        "\n",
        "gasto = pd.DataFrame({'gastos_limpeza':[desplimpeza],\n",
        "                       'gastos_comida':[despcomida],\n",
        "                       'gastos_transporte':[desptransporte],\n",
        "                       'gasto_outros':[despoutros]})\n",
        "print(gasto)\n",
        "print(\"##########################################\")\n",
        "print('Média semanal de cada despesa')\n",
        "medialimpeza = df['Limpeza'].mean()\n",
        "mediacomida = df['Comida'].mean()\n",
        "mediatransporte = df['Transporte'].mean()\n",
        "mediaoutros = df['Outros'].mean()\n",
        "\n",
        "media_despesas = pd.DataFrame({'media_desp_limpeza':[f'{medialimpeza:.2f}'],\n",
        "                               'media_desp_comida':[f'{mediacomida:.2f}'],\n",
        "                               'media_desp_transporte':[f'{mediatransporte:.2f}'],\n",
        "                               'media_desp_outros':[f'{mediaoutros:.2f}']})\n",
        "print(f'{media_despesas}')\n",
        "print('########################################')\n",
        "print('lucro diário')\n",
        "df['Lucro'] = df['Ganhos'] - df[['Limpeza','Comida','Transporte','Outros']].sum(axis=1) \n",
        "\n",
        "print(df)\n",
        "\n",
        "print('#'*40)\n",
        "print('dia mais lucrativo')\n",
        "\n",
        "ordenardec = df.sort_values(by = 'Lucro', ascending=False)\n",
        "\n",
        "dia_mais_lucrativo = ordenardec.iloc[0]['Dia']\n",
        "\n",
        "print(f'Dia mais lucrativo: {dia_mais_lucrativo}')\n"
      ]
    },
    {
      "cell_type": "markdown",
      "source": [
        "##Análise de Dados para a loja Supermercado Econômico\n",
        "\n",
        "\n",
        "Neste programa, foi criada uma tabela com os gastos e ganhos de uma semana, onde cada linha representa um dia da semana e cada coluna representa uma categoria de gastos (limpeza, comida, transporte e outros) e os ganhos obtidos nesse dia.\n",
        "\n",
        "A partir dessa tabela, foram realizados alguns cálculos para gerar relatórios financeiros. Primeiramente, foi calculada a soma dos ganhos na semana, subtraindo 7% de impostos sobre esses ganhos. Em seguida, foi calculada a média semanal dos ganhos.\n",
        "\n",
        "Também foram calculadas as somas totais dos gastos em cada categoria e a média semanal de cada despesa.\n",
        "\n",
        "Além disso, foi calculado o lucro diário, subtraindo dos ganhos diários a soma dos gastos diários em cada categoria. Por fim, foi determinado o dia mais lucrativo da semana, que foi o dia em que o lucro foi maior.\n",
        "\n",
        "Todo esse processo foi feito usando a biblioteca Pandas do Python, que permite manipular e analisar dados de forma eficiente e organizada."
      ],
      "metadata": {
        "id": "DQdxW_qE1MuZ"
      }
    }
  ]
}